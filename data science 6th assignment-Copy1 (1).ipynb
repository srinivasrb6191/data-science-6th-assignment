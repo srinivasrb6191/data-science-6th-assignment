{
 "cells": [
  {
   "cell_type": "markdown",
   "id": "d4a394ff",
   "metadata": {},
   "source": [
    "## .1. What are keywords in python? Using the keyword library, print all the python keywords.\n",
    "Keywords in Python are reserved words that cannot be used as ordinary identifiers. \n",
    "They are used to define the syntax and structure of the Python language."
   ]
  },
  {
   "cell_type": "code",
   "execution_count": 2,
   "id": "56c161a2",
   "metadata": {},
   "outputs": [
    {
     "name": "stdout",
     "output_type": "stream",
     "text": [
      "['False', 'None', 'True', 'and', 'as', 'assert', 'async', 'await', 'break', 'class', 'continue', 'def', 'del', 'elif', 'else', 'except', 'finally', 'for', 'from', 'global', 'if', 'import', 'in', 'is', 'lambda', 'nonlocal', 'not', 'or', 'pass', 'raise', 'return', 'try', 'while', 'with', 'yield']\n"
     ]
    }
   ],
   "source": [
    "import keyword\n",
    "print(keyword.kwlist)"
   ]
  },
  {
   "cell_type": "markdown",
   "id": "22d916de",
   "metadata": {},
   "source": [
    "## Q.2. What are the rules to create variables in python?\n",
    "A variable can have a short name (like x and y) or a more descriptive name (age, carname, total_volume).\n",
    "\n",
    "Rules for Python variables:\n",
    "\n",
    "A variable name must start with a letter or the underscore character\n",
    "A variable name cannot start with a number\n",
    "A variable name can only contain alpha-numeric characters and underscores (A-z, 0-9, and _ )\n",
    "Variable names are case-sensitive (age, Age and AGE are three different variables)"
   ]
  },
  {
   "cell_type": "code",
   "execution_count": 3,
   "id": "f2d0f13d",
   "metadata": {},
   "outputs": [],
   "source": [
    "name = \"John\"\n",
    "age = 25\n",
    "is_student = True\n",
    "pi_value = 3.14"
   ]
  },
  {
   "cell_type": "markdown",
   "id": "9baa4464",
   "metadata": {},
   "source": [
    "### 3. What are the standards and conventions followed for the nomenclature of variables in python to improve code readability and maintainability?\n",
    "Ans: In Python, there are several standards and conventions followed for variable naming to enhance code readability and maintainability.\n",
    "\n",
    "Use lowercase letters: Variable names should be in lowercase letters, and words should be separated by underscores. For example: my_variable.\n",
    "Choose variable names that accurately describe the purpose or content of the variable. This improves code readability and helps others understand your code. For example: count instead of c, customer_name instead of cn.\n",
    "Don't use reserved keywords or built-in function names as variable names. For example, avoid naming a variable print or if."
   ]
  },
  {
   "cell_type": "markdown",
   "id": "0075c587",
   "metadata": {},
   "source": [
    "### 4. What will happen if a keyword is used as a variable name?\n",
    "Ans: If I use a keyword as a variable name in Python, I will encounter a syntax error. Python reserves certain keywords for specific purposes and they cannot be used as variable names."
   ]
  },
  {
   "cell_type": "code",
   "execution_count": 4,
   "id": "e96606c8",
   "metadata": {},
   "outputs": [
    {
     "ename": "SyntaxError",
     "evalue": "invalid syntax (2075311801.py, line 1)",
     "output_type": "error",
     "traceback": [
      "\u001b[1;36m  Cell \u001b[1;32mIn[4], line 1\u001b[1;36m\u001b[0m\n\u001b[1;33m    else = 100\u001b[0m\n\u001b[1;37m    ^\u001b[0m\n\u001b[1;31mSyntaxError\u001b[0m\u001b[1;31m:\u001b[0m invalid syntax\n"
     ]
    }
   ],
   "source": [
    "else = 100"
   ]
  },
  {
   "cell_type": "markdown",
   "id": "d69e56a2",
   "metadata": {},
   "source": [
    "### 5. For what purpose def keyword is used?\n",
    "Ans: User-defined functions are created with the 'def' keyword followed by a function name of your choosing.\n",
    "\n",
    "6. What is the operation of this special character ‘\\’?\n",
    "\n",
    "Ans: In Python strings, the backslash \"\" is a special character, also called the \"escape\" character. It is used in representing certain whitespace characters: \"\\t\" is a tab, \"\\n\" is a newline, and \"\\r\" is a carriage return.\n",
    "\n",
    "7. Give an example of the following conditions:\n",
    "(i) Homogeneous list\n",
    "(ii) Heterogeneous set\n",
    "(iii) Homogeneous tuple\n",
    "Ans:\n",
    "\n",
    "Homogeneous list:\n",
    "A homogeneous list contains elements of the same type."
   ]
  },
  {
   "cell_type": "code",
   "execution_count": 5,
   "id": "97fead28",
   "metadata": {},
   "outputs": [
    {
     "name": "stdout",
     "output_type": "stream",
     "text": [
      "[1, 2, 3, 4, 5]\n"
     ]
    }
   ],
   "source": [
    "homogenous_list = [1,2,3,4,5]\n",
    "print(homogenous_list)"
   ]
  },
  {
   "cell_type": "markdown",
   "id": "458a3eca",
   "metadata": {},
   "source": [
    "#### Heterogeneous set:\n",
    "A heterogeneous set refers to a set that can contain elements of different types or data structures."
   ]
  },
  {
   "cell_type": "code",
   "execution_count": 7,
   "id": "dc211e92",
   "metadata": {},
   "outputs": [
    {
     "name": "stdout",
     "output_type": "stream",
     "text": [
      "[10, 'iNeuron', True, 3.14, [1, 2, 3]]\n"
     ]
    }
   ],
   "source": [
    "heterogeneous_set = [10, \"iNeuron\", True, 3.14, [1, 2, 3]]\n",
    "\n",
    "print(heterogeneous_set)"
   ]
  },
  {
   "cell_type": "code",
   "execution_count": null,
   "id": "8962a97f",
   "metadata": {},
   "outputs": [],
   "source": [
    "Homogenous tuple:\n",
    "A homogeneous tuple contains elements of the same type."
   ]
  },
  {
   "cell_type": "code",
   "execution_count": 8,
   "id": "d850caa0",
   "metadata": {},
   "outputs": [
    {
     "name": "stdout",
     "output_type": "stream",
     "text": [
      "['apple', 'banana', 'grapes', 'cherry']\n"
     ]
    }
   ],
   "source": [
    "homogenous_tuple = [\"apple\",\"banana\",\"grapes\",\"cherry\"]\n",
    "print(homogenous_tuple)"
   ]
  },
  {
   "cell_type": "markdown",
   "id": "d9dddfc8",
   "metadata": {},
   "source": [
    "### 8. Explain the mutable and immutable data types with proper explanation & examples.\n",
    "Ans: Mutable data types can be modified after they are created. This means you can change their values, add or remove elements, or modify their internal state."
   ]
  },
  {
   "cell_type": "code",
   "execution_count": 9,
   "id": "a1dd8342",
   "metadata": {},
   "outputs": [
    {
     "name": "stdout",
     "output_type": "stream",
     "text": [
      "[10, 2, 3]\n"
     ]
    }
   ],
   "source": [
    "my_list = [1, 2, 3]\n",
    "my_list[0] = 10  \n",
    "print(my_list)"
   ]
  },
  {
   "cell_type": "code",
   "execution_count": 10,
   "id": "7c68dcb1",
   "metadata": {},
   "outputs": [
    {
     "name": "stdout",
     "output_type": "stream",
     "text": [
      "[10, 2, 3, 4]\n"
     ]
    }
   ],
   "source": [
    "my_list.append(4)\n",
    "print(my_list)"
   ]
  },
  {
   "cell_type": "markdown",
   "id": "31ad0f7b",
   "metadata": {},
   "source": [
    "#### Immutable data types cannot be modified once they are created. Any operation that appears to modify an immutable object actually creates a new object with the modified value."
   ]
  },
  {
   "cell_type": "code",
   "execution_count": 11,
   "id": "95c24396",
   "metadata": {},
   "outputs": [
    {
     "name": "stdout",
     "output_type": "stream",
     "text": [
      "Hello iNeuron\n"
     ]
    }
   ],
   "source": [
    "my_string = \"Hello\"\n",
    "new_string = my_string + \" iNeuron\"\n",
    "print(new_string)"
   ]
  },
  {
   "cell_type": "code",
   "execution_count": 12,
   "id": "e951f2be",
   "metadata": {},
   "outputs": [
    {
     "name": "stdout",
     "output_type": "stream",
     "text": [
      "Hello\n"
     ]
    }
   ],
   "source": [
    "print(my_string)"
   ]
  },
  {
   "cell_type": "code",
   "execution_count": 13,
   "id": "cb473d73",
   "metadata": {},
   "outputs": [
    {
     "name": "stdout",
     "output_type": "stream",
     "text": [
      "(1, 2, 3, 4)\n"
     ]
    }
   ],
   "source": [
    "my_tuple = (1, 2, 3)\n",
    "new_tuple = my_tuple + (4,)\n",
    "print(new_tuple)"
   ]
  },
  {
   "cell_type": "code",
   "execution_count": 14,
   "id": "88891fea",
   "metadata": {},
   "outputs": [
    {
     "name": "stdout",
     "output_type": "stream",
     "text": [
      "(1, 2, 3)\n"
     ]
    }
   ],
   "source": [
    "print(my_tuple)"
   ]
  },
  {
   "cell_type": "markdown",
   "id": "bc313549",
   "metadata": {},
   "source": [
    "### 9. Write a code to create the given structure using only for loop."
   ]
  },
  {
   "cell_type": "code",
   "execution_count": 15,
   "id": "3bde3c2b",
   "metadata": {},
   "outputs": [
    {
     "name": "stdout",
     "output_type": "stream",
     "text": [
      "    *\n",
      "   ***\n",
      "  *****\n",
      " *******\n",
      "*********\n"
     ]
    }
   ],
   "source": [
    "#    *\n",
    "#   ***\n",
    "#  *****\n",
    "# *******\n",
    "#*********\n",
    "\n",
    "#code:\n",
    "\n",
    "num = 5\n",
    "for i in range(0, num):\n",
    "    for j in range(0, num-i-1):\n",
    "        print(\" \", end=\"\")\n",
    "    for j in range(0, i*2+1):\n",
    "        print(\"*\", end=\"\")\n",
    "    print()"
   ]
  },
  {
   "cell_type": "markdown",
   "id": "8dd60949",
   "metadata": {},
   "source": [
    "##### 10. Write a code to create the given structure using while loop."
   ]
  },
  {
   "cell_type": "code",
   "execution_count": 16,
   "id": "5b143e64",
   "metadata": {},
   "outputs": [
    {
     "name": "stdout",
     "output_type": "stream",
     "text": [
      "|||||||||\n",
      " |||||||\n",
      "  |||||\n",
      "   |||\n",
      "    |\n"
     ]
    }
   ],
   "source": [
    "#|||||||||\n",
    "# |||||||\n",
    "#  |||||\n",
    "#   |||\n",
    "#    |\n",
    "\n",
    "#code:\n",
    "\n",
    "num = 5\n",
    "for i in range(0, num):\n",
    "    for j in range(0, i):\n",
    "        print(\" \", end=\"\")\n",
    "    for j in range(i*2, num*2-1):\n",
    "        print(\"|\", end=\"\")\n",
    "    print()"
   ]
  },
  {
   "cell_type": "code",
   "execution_count": null,
   "id": "d5b06a78",
   "metadata": {},
   "outputs": [],
   "source": []
  }
 ],
 "metadata": {
  "kernelspec": {
   "display_name": "Python 3 (ipykernel)",
   "language": "python",
   "name": "python3"
  },
  "language_info": {
   "codemirror_mode": {
    "name": "ipython",
    "version": 3
   },
   "file_extension": ".py",
   "mimetype": "text/x-python",
   "name": "python",
   "nbconvert_exporter": "python",
   "pygments_lexer": "ipython3",
   "version": "3.10.9"
  }
 },
 "nbformat": 4,
 "nbformat_minor": 5
}
